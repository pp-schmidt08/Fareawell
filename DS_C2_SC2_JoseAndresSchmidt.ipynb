{
  "nbformat": 4,
  "nbformat_minor": 0,
  "metadata": {
    "colab": {
      "provenance": [],
      "authorship_tag": "ABX9TyMs8ehGkTTGa0huwZLz1D/P",
      "include_colab_link": true
    },
    "kernelspec": {
      "name": "python3",
      "display_name": "Python 3"
    },
    "language_info": {
      "name": "python"
    }
  },
  "cells": [
    {
      "cell_type": "markdown",
      "metadata": {
        "id": "view-in-github",
        "colab_type": "text"
      },
      "source": [
        "<a href=\"https://colab.research.google.com/github/pp-schmidt08/Fareawell/blob/main/DS_C2_SC2_JoseAndresSchmidt.ipynb\" target=\"_parent\"><img src=\"https://colab.research.google.com/assets/colab-badge.svg\" alt=\"Open In Colab\"/></a>"
      ]
    },
    {
      "cell_type": "code",
      "execution_count": 27,
      "metadata": {
        "id": "Zhokv01t4n-c",
        "colab": {
          "base_uri": "https://localhost:8080/"
        },
        "outputId": "d0f273de-1302-4897-cd93-f7a2fa61331b"
      },
      "outputs": [
        {
          "output_type": "stream",
          "name": "stdout",
          "text": [
            "<class 'pandas.core.frame.DataFrame'>\n",
            "RangeIndex: 86512 entries, 0 to 86511\n",
            "Data columns (total 15 columns):\n",
            " #   Column                               Non-Null Count  Dtype         \n",
            "---  ------                               --------------  -----         \n",
            " 0   country                              86512 non-null  object        \n",
            " 1   iso_code                             86512 non-null  object        \n",
            " 2   date                                 86512 non-null  datetime64[ns]\n",
            " 3   total_vaccinations                   43607 non-null  float64       \n",
            " 4   people_vaccinated                    41294 non-null  float64       \n",
            " 5   people_fully_vaccinated              38802 non-null  float64       \n",
            " 6   daily_vaccinations_raw               35362 non-null  float64       \n",
            " 7   daily_vaccinations                   86213 non-null  float64       \n",
            " 8   total_vaccinations_per_hundred       43607 non-null  float64       \n",
            " 9   people_vaccinated_per_hundred        41294 non-null  float64       \n",
            " 10  people_fully_vaccinated_per_hundred  38802 non-null  float64       \n",
            " 11  daily_vaccinations_per_million       86213 non-null  float64       \n",
            " 12  vaccines                             86512 non-null  object        \n",
            " 13  source_name                          86512 non-null  object        \n",
            " 14  source_website                       86512 non-null  object        \n",
            "dtypes: datetime64[ns](1), float64(9), object(5)\n",
            "memory usage: 9.9+ MB\n",
            "Total vaccinations number in the world: 2002854013761.0\n",
            "Total vaccines administered on 29/01/2021: 82952931.0\n",
            "Time difference between first and last vaccine: 482 days 00:00:00\n"
          ]
        }
      ],
      "source": [
        "import pandas as pd\n",
        "\n",
        "# Section a) Extract the information from file\n",
        "# Load the CSV file\n",
        "data = pd.read_csv('/content/country_vaccinations.csv')\n",
        "\n",
        "# Display the first few rows of the dataframe to familiarize yourself with the data\n",
        "data.head()\n",
        "\n",
        "# Section b) Display Structure and type of data for each column\n",
        "# Display the structure and types of data\n",
        "\n",
        "# Convert date columns to datetime64\n",
        "data['date']=pd.to_datetime(data['date'])\n",
        "\n",
        "# Confirm changes\n",
        "data.info()\n",
        "# Section c) Determine the amount of vaccines administered for each company\n",
        "vaccines_summary = data.groupby('vaccines')['total_vaccinations'].sum()\n",
        "#Display the result\n",
        "vaccines_summary\n",
        "\n",
        "\n",
        "# Section d)Obtain the amount of vaccines administered in the whole world\n",
        "# Sum all vaccinations worldwide\n",
        "total_vaccinations_worldwide = data['total_vaccinations'].sum()\n",
        "print(f\"Total vaccinations number in the world: {total_vaccinations_worldwide}\")\n",
        "\n",
        "\n",
        "# Section e) Calculate the average of administered vaccines per country\n",
        "# Group by 'country' and calculate the average vaccinations\n",
        "average_vaccinations_per_country = data.groupby('country')['total_vaccinations'].mean()\n",
        "average_vaccinations_per_country\n",
        "\n",
        "\n",
        "# Section f)Determine the amount of vaccines applied on 29.01.2021 in the whole world\n",
        "# Filter data for the specific date\n",
        "vaccines_on_date = data[data['date']=='2021-01-29']['total_vaccinations'].sum()\n",
        "print(f\"Total vaccines administered on 29/01/2021: {vaccines_on_date}\")\n",
        "\n",
        "\n",
        "# Section g) - Create new DataFrame (conDiferencias)\n",
        "\n",
        "# Create the new dataframe\n",
        "conDiferencias = data.copy()\n",
        "# Calculate the difference and add as a new column\n",
        "conDiferencias['differences']=conDiferencias['daily_vaccinations']-conDiferencias['daily_vaccinations_raw']\n",
        "#Display New Data Frame\n",
        "conDiferencias.head()\n",
        "\n",
        "\n",
        "\n",
        "# Section h)\n",
        "#Calculate the time period\n",
        "time_period = data['date'].max() - data['date'].min()\n",
        "print(f\"Time difference between first and last vaccine: {time_period}\")\n",
        "\n",
        "# Section i)Create a new data frame \"conCantidad\"\n",
        "# Create the new dataframe\n",
        "conCantidad = data.copy()\n",
        "# Create the new column by splitting and counting the number of vaccines\n",
        "conCantidad['canVac']=conCantidad['vaccines'].apply(lambda x: len(x.split(',')))\n",
        "# Display New Data Frame\n",
        "conCantidad.head()\n",
        "\n",
        "# Section j) Generate a dataframe named \"antes20\"\n",
        "# Filter the data to get records before 20/12/2020\n",
        "antes20 = data[data['date']< '2020-12-20']\n",
        "antes20.head()\n",
        "\n",
        "# Section k)Obtain a dataframe named \"Pfizer\"\n",
        "#Filter the data where Pfizer was used\n",
        "pfizer = data[data['vaccines'].str.contains('Pfizer')]\n",
        "pfizer.head()\n",
        "\n",
        "# Section L)Stored the new data frames in a excel file\n",
        "# Save the Data frames to an Excel file with different sheets\n",
        "with pd.ExcelWriter('resultadosReto.xlsx') as writer:\n",
        "  conDiferencias.to_excel(writer, sheet_name='conDiferencias')\n",
        "  conCantidad.to_excel(writer, sheet_name='conCantidad')\n",
        "  antes20.to_excel(writer, sheet_name='antes20')\n",
        "  pfizer.to_excel(writer, sheet_name='pfizer')\n",
        "\n",
        "\n",
        "\n",
        "\n",
        "\n",
        "\n",
        "\n"
      ]
    }
  ]
}